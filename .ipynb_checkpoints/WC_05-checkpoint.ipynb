{
 "cells": [
  {
   "cell_type": "markdown",
   "metadata": {},
   "source": [
    "# Weekly Challenge 04\n",
    "\n",
    "*Original URL* https://community.alteryx.com/t5/Weekly-Challenge/Challenge-5-HR-Position-Finder-Application/td-p/36732 and [**My Alteryx Approach**](https://github.com/dsmdavid/Alteryx-Weekly-Challenge/tree/master/sub_Challenge%2304)\n",
    "\n",
    "## Brief\n",
    "\n",
    "An HR department has a defined hierarchy for job identification across the organization. Depending on the job, the position within the hierarchy can change.\n",
    "\n",
    " \n",
    "The goal is to create an analytical application that allows a HR rep to enter a position # (in this example, 33333) and return all records where the position is found within the hierarchy system."
   ]
  },
  {
   "cell_type": "code",
   "execution_count": 1,
   "metadata": {
    "collapsed": true
   },
   "outputs": [],
   "source": [
    "import pandas as pd\n"
   ]
  },
  {
   "cell_type": "markdown",
   "metadata": {},
   "source": [
    "## Approach I want to follow:\n",
    "1. Read the data.\n",
    "1. Create a function to query the data and return matching elements.\n",
    "1. Make it \"interactive\" by asking user to input values (any value) **OR** display a list of values and select from them."
   ]
  },
  {
   "cell_type": "code",
   "execution_count": 2,
   "metadata": {},
   "outputs": [],
   "source": [
    "#Read the dataframe\n",
    "df = pd.read_csv(\"./05_files/input_positions.csv\")#,dtype=int)"
   ]
  },
  {
   "cell_type": "code",
   "execution_count": 3,
   "metadata": {},
   "outputs": [
    {
     "data": {
      "text/html": [
       "<div>\n",
       "<style>\n",
       "    .dataframe thead tr:only-child th {\n",
       "        text-align: right;\n",
       "    }\n",
       "\n",
       "    .dataframe thead th {\n",
       "        text-align: left;\n",
       "    }\n",
       "\n",
       "    .dataframe tbody tr th {\n",
       "        vertical-align: top;\n",
       "    }\n",
       "</style>\n",
       "<table border=\"1\" class=\"dataframe\">\n",
       "  <thead>\n",
       "    <tr style=\"text-align: right;\">\n",
       "      <th></th>\n",
       "      <th>Level0</th>\n",
       "      <th>Level1</th>\n",
       "      <th>Level2</th>\n",
       "      <th>Level3</th>\n",
       "    </tr>\n",
       "  </thead>\n",
       "  <tbody>\n",
       "    <tr>\n",
       "      <th>0</th>\n",
       "      <td>123456</td>\n",
       "      <td>NaN</td>\n",
       "      <td>NaN</td>\n",
       "      <td>NaN</td>\n",
       "    </tr>\n",
       "    <tr>\n",
       "      <th>1</th>\n",
       "      <td>123456</td>\n",
       "      <td>111111.0</td>\n",
       "      <td>NaN</td>\n",
       "      <td>NaN</td>\n",
       "    </tr>\n",
       "    <tr>\n",
       "      <th>2</th>\n",
       "      <td>123456</td>\n",
       "      <td>111111.0</td>\n",
       "      <td>22222.0</td>\n",
       "      <td>NaN</td>\n",
       "    </tr>\n",
       "    <tr>\n",
       "      <th>3</th>\n",
       "      <td>123456</td>\n",
       "      <td>111111.0</td>\n",
       "      <td>22222.0</td>\n",
       "      <td>33333.0</td>\n",
       "    </tr>\n",
       "    <tr>\n",
       "      <th>4</th>\n",
       "      <td>123456</td>\n",
       "      <td>111111.0</td>\n",
       "      <td>23333.0</td>\n",
       "      <td>NaN</td>\n",
       "    </tr>\n",
       "  </tbody>\n",
       "</table>\n",
       "</div>"
      ],
      "text/plain": [
       "   Level0    Level1   Level2   Level3\n",
       "0  123456       NaN      NaN      NaN\n",
       "1  123456  111111.0      NaN      NaN\n",
       "2  123456  111111.0  22222.0      NaN\n",
       "3  123456  111111.0  22222.0  33333.0\n",
       "4  123456  111111.0  23333.0      NaN"
      ]
     },
     "execution_count": 3,
     "metadata": {},
     "output_type": "execute_result"
    }
   ],
   "source": [
    "df.head()"
   ]
  },
  {
   "cell_type": "code",
   "execution_count": 4,
   "metadata": {
    "collapsed": true
   },
   "outputs": [],
   "source": [
    "def get_query(df, query):\n",
    "    '''Takes a df with all columns the same type,\n",
    "    and a query: a list of values to check'''\n",
    "    return df[df.isin(query).any(axis =1)]"
   ]
  },
  {
   "cell_type": "code",
   "execution_count": 5,
   "metadata": {},
   "outputs": [
    {
     "name": "stdout",
     "output_type": "stream",
     "text": [
      "Enter the value to check, use multiple values separated by a comma: 111111\n",
      "This is your query : [111111]\n"
     ]
    }
   ],
   "source": [
    "query=str(input('Enter the value to check, use multiple values separated by a comma: ')).split(',')\n",
    "#Convert query to integers:\n",
    "query = [int(x) for x in query]\n",
    "print('This is your query :', query)"
   ]
  },
  {
   "cell_type": "code",
   "execution_count": 6,
   "metadata": {},
   "outputs": [
    {
     "data": {
      "text/html": [
       "<div>\n",
       "<style>\n",
       "    .dataframe thead tr:only-child th {\n",
       "        text-align: right;\n",
       "    }\n",
       "\n",
       "    .dataframe thead th {\n",
       "        text-align: left;\n",
       "    }\n",
       "\n",
       "    .dataframe tbody tr th {\n",
       "        vertical-align: top;\n",
       "    }\n",
       "</style>\n",
       "<table border=\"1\" class=\"dataframe\">\n",
       "  <thead>\n",
       "    <tr style=\"text-align: right;\">\n",
       "      <th></th>\n",
       "      <th>Level0</th>\n",
       "      <th>Level1</th>\n",
       "      <th>Level2</th>\n",
       "      <th>Level3</th>\n",
       "    </tr>\n",
       "  </thead>\n",
       "  <tbody>\n",
       "    <tr>\n",
       "      <th>1</th>\n",
       "      <td>123456</td>\n",
       "      <td>111111.0</td>\n",
       "      <td>NaN</td>\n",
       "      <td>NaN</td>\n",
       "    </tr>\n",
       "    <tr>\n",
       "      <th>2</th>\n",
       "      <td>123456</td>\n",
       "      <td>111111.0</td>\n",
       "      <td>22222.0</td>\n",
       "      <td>NaN</td>\n",
       "    </tr>\n",
       "    <tr>\n",
       "      <th>3</th>\n",
       "      <td>123456</td>\n",
       "      <td>111111.0</td>\n",
       "      <td>22222.0</td>\n",
       "      <td>33333.0</td>\n",
       "    </tr>\n",
       "    <tr>\n",
       "      <th>4</th>\n",
       "      <td>123456</td>\n",
       "      <td>111111.0</td>\n",
       "      <td>23333.0</td>\n",
       "      <td>NaN</td>\n",
       "    </tr>\n",
       "    <tr>\n",
       "      <th>5</th>\n",
       "      <td>123456</td>\n",
       "      <td>111111.0</td>\n",
       "      <td>23333.0</td>\n",
       "      <td>34444.0</td>\n",
       "    </tr>\n",
       "    <tr>\n",
       "      <th>6</th>\n",
       "      <td>123456</td>\n",
       "      <td>111111.0</td>\n",
       "      <td>23333.0</td>\n",
       "      <td>35555.0</td>\n",
       "    </tr>\n",
       "  </tbody>\n",
       "</table>\n",
       "</div>"
      ],
      "text/plain": [
       "   Level0    Level1   Level2   Level3\n",
       "1  123456  111111.0      NaN      NaN\n",
       "2  123456  111111.0  22222.0      NaN\n",
       "3  123456  111111.0  22222.0  33333.0\n",
       "4  123456  111111.0  23333.0      NaN\n",
       "5  123456  111111.0  23333.0  34444.0\n",
       "6  123456  111111.0  23333.0  35555.0"
      ]
     },
     "execution_count": 6,
     "metadata": {},
     "output_type": "execute_result"
    }
   ],
   "source": [
    "get_query(df, query)"
   ]
  },
  {
   "cell_type": "markdown",
   "metadata": {},
   "source": [
    "## Alternatively...\n",
    "building an app that lists all potential values and selecting from it: -- TEXT MODE --"
   ]
  },
  {
   "cell_type": "code",
   "execution_count": 7,
   "metadata": {},
   "outputs": [
    {
     "name": "stdout",
     "output_type": "stream",
     "text": [
      "{0: nan, 1: 3998877.0, 2: 399999.0, 3: 399888.0, 4: 388888.0, 5: 366666.0, 6: 235555.0, 7: 234444.0, 8: 123456.0, 9: 111111.0, 10: 37777.0, 11: 36677.0, 12: 35555.0, 13: 34444.0, 14: 33333.0, 15: 23333.0, 16: 22222.0, 17: 12222.0}\n",
      "\n",
      "\n",
      "\n",
      "\n",
      "Enter the key of the values to retrieve; use multiple values separated by a comma: 1,3\n",
      "This is your query : [3998877.0, 399888.0]\n"
     ]
    }
   ],
   "source": [
    "query = []\n",
    "dict_keys = {}\n",
    "for k, v in enumerate(sorted(df.melt()['value'].unique(), reverse=True)):\n",
    "    dict_keys[k]=v\n",
    "print(dict_keys)\n",
    "print('\\n'*3)\n",
    "while len(query) == 0:\n",
    "    query=str(input('Enter the key of the values to retrieve; use multiple values separated by a comma: ')).split(',')\n",
    "#Convert query to integers:\n",
    "    query = [dict_keys.get(int(x)) for x in query if dict_keys.get(int(x)) is not None ]\n",
    "    if len(query) == 0:\n",
    "        print('Input is not valid, please use any of the integers from 0 to ',len(dict_keys))\n",
    "    else:\n",
    "        print('This is your query :', query)"
   ]
  },
  {
   "cell_type": "code",
   "execution_count": 8,
   "metadata": {},
   "outputs": [
    {
     "data": {
      "text/html": [
       "<div>\n",
       "<style>\n",
       "    .dataframe thead tr:only-child th {\n",
       "        text-align: right;\n",
       "    }\n",
       "\n",
       "    .dataframe thead th {\n",
       "        text-align: left;\n",
       "    }\n",
       "\n",
       "    .dataframe tbody tr th {\n",
       "        vertical-align: top;\n",
       "    }\n",
       "</style>\n",
       "<table border=\"1\" class=\"dataframe\">\n",
       "  <thead>\n",
       "    <tr style=\"text-align: right;\">\n",
       "      <th></th>\n",
       "      <th>Level0</th>\n",
       "      <th>Level1</th>\n",
       "      <th>Level2</th>\n",
       "      <th>Level3</th>\n",
       "    </tr>\n",
       "  </thead>\n",
       "  <tbody>\n",
       "    <tr>\n",
       "      <th>16</th>\n",
       "      <td>123456</td>\n",
       "      <td>12222.0</td>\n",
       "      <td>235555.0</td>\n",
       "      <td>399888.0</td>\n",
       "    </tr>\n",
       "    <tr>\n",
       "      <th>17</th>\n",
       "      <td>123456</td>\n",
       "      <td>12222.0</td>\n",
       "      <td>235555.0</td>\n",
       "      <td>3998877.0</td>\n",
       "    </tr>\n",
       "  </tbody>\n",
       "</table>\n",
       "</div>"
      ],
      "text/plain": [
       "    Level0   Level1    Level2     Level3\n",
       "16  123456  12222.0  235555.0   399888.0\n",
       "17  123456  12222.0  235555.0  3998877.0"
      ]
     },
     "execution_count": 8,
     "metadata": {},
     "output_type": "execute_result"
    }
   ],
   "source": [
    "get_query(df, query)"
   ]
  }
 ],
 "metadata": {
  "kernelspec": {
   "display_name": "Python 3",
   "language": "python",
   "name": "python3"
  },
  "language_info": {
   "codemirror_mode": {
    "name": "ipython",
    "version": 3
   },
   "file_extension": ".py",
   "mimetype": "text/x-python",
   "name": "python",
   "nbconvert_exporter": "python",
   "pygments_lexer": "ipython3",
   "version": "3.6.3"
  }
 },
 "nbformat": 4,
 "nbformat_minor": 2
}
