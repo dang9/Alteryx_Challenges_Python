{
 "cells": [
  {
   "cell_type": "markdown",
   "metadata": {},
   "source": [
    "# Weekly Challenge 14\n",
    "\n",
    "*Original URL* https://community.alteryx.com/t5/Weekly-Challenge/Challenge-14-Warehouse-Distribution/td-p/36743 and [**My Alteryx Approach**](https://github.com/dsmdavid/Alteryx-Weekly-Challenge/tree/master/submitted/sub_Challenge%2314)\n",
    "\n",
    "## Brief\n",
    "Here is a new challenge for this week, it is a two part challenge so next week’s challenge will be a continuation.  \n",
    "\n",
    "### Retail distribution:\n",
    "\n",
    "This week we are looking at a retail distribution analysis.  We need to allocate products from the warehouse to stores based on priority.  I have seen this challenge solved both with and without the use of an iterative macro.\n",
    "\n",
    "#### The use case:\n",
    "\n",
    "A retail chain has 25 stores carrying variety of items.  Not every store carries the same items and each has its own level of prioritization within the chain and different required stock levels.  There is a central warehouse that contains all of the available items.\n",
    "\n",
    " \n",
    "The objective is to distribute items from the warehouse to each store, filling the available stock at each store in order of the store's priority."
   ]
  },
  {
   "cell_type": "code",
   "execution_count": 1,
   "metadata": {},
   "outputs": [],
   "source": [
    "import pandas as pd\n",
    "import os"
   ]
  },
  {
   "cell_type": "markdown",
   "metadata": {
    "slideshow": {
     "slide_type": "fragment"
    }
   },
   "source": [
    "## Approach I want to follow:\n",
    "1. Read the files, combine priority and quantities.\n",
    "1. Create a function that distributes items from the warehouse.\n",
    "1. Fulfill requirments of the stores in the priority order.\n",
    "1. Verify output."
   ]
  },
  {
   "cell_type": "markdown",
   "metadata": {},
   "source": [
    "## 1. Read and combine"
   ]
  },
  {
   "cell_type": "code",
   "execution_count": 2,
   "metadata": {},
   "outputs": [],
   "source": [
    "#Read the files\n",
    "os.chdir(os.path.join(os.getcwd(), '14_files'))"
   ]
  },
  {
   "cell_type": "code",
   "execution_count": 3,
   "metadata": {},
   "outputs": [
    {
     "data": {
      "text/plain": [
       "['01_storesPriority.csv',\n",
       " '02_storesRequirements.csv',\n",
       " '03_warehouseContents.csv',\n",
       " '04_solution.csv']"
      ]
     },
     "execution_count": 3,
     "metadata": {},
     "output_type": "execute_result"
    }
   ],
   "source": [
    "os.listdir()"
   ]
  },
  {
   "cell_type": "code",
   "execution_count": 4,
   "metadata": {},
   "outputs": [],
   "source": [
    "#Load the data:\n",
    "input_dfStores = pd.read_csv(\"./01_storesPriority.csv\", encoding=\"latin\")     \n",
    "input_dfRequirements = pd.read_csv(\"./02_storesRequirements.csv\", encoding = \"latin\")\n",
    "input_dfWarehouse = pd.read_csv(\"./03_warehouseContents.csv\", encoding = \"latin\")"
   ]
  },
  {
   "cell_type": "code",
   "execution_count": 5,
   "metadata": {},
   "outputs": [],
   "source": [
    "#Sort Stores by Priority\n",
    "storesInOrder = list(input_dfStores.sort_values(by=['Priority'])['Store'])"
   ]
  },
  {
   "cell_type": "code",
   "execution_count": 6,
   "metadata": {},
   "outputs": [],
   "source": [
    "#Activate Warehouse\n",
    "input_dfWarehouse.set_index('Item', inplace=True )\n"
   ]
  },
  {
   "cell_type": "markdown",
   "metadata": {},
   "source": [
    "## 2. Create functions"
   ]
  },
  {
   "cell_type": "code",
   "execution_count": 7,
   "metadata": {},
   "outputs": [],
   "source": [
    "def shipping(row):\n",
    "    if row['Required'] <= row['Count']:\n",
    "        return row['Required']\n",
    "    else:\n",
    "        return row['Count']\n",
    "    "
   ]
  },
  {
   "cell_type": "code",
   "execution_count": 8,
   "metadata": {},
   "outputs": [],
   "source": [
    "def fulfill_store(store_str, input_dfWarehouse):\n",
    "    #Process one store:\n",
    "    #1. Get items required\n",
    "    dfItems = input_dfRequirements[input_dfRequirements['Store']==store_str][['Item','Required']]\n",
    "    dfItems.set_index('Item', inplace=True)\n",
    "    #2. Check against warehouse\n",
    "    dfTransient = input_dfWarehouse.join(dfItems, how='left').fillna(0)\n",
    "    #3. Get the min(required, in warehouse)\n",
    "    dfTransient['Assigned'] = dfTransient.apply(lambda row:shipping(row), axis=1)\n",
    "    #4. Return the store.\n",
    "    dfStore = dfTransient.copy()[['Required','Assigned','Warehouse']]\n",
    "    dfStore['Store'] = store_str\n",
    "    #5. Return the updated warehouse\n",
    "    dfTransient['Count'] = dfTransient['Count'] - dfTransient['Assigned']\n",
    "    input_dfWarehouse = dfTransient.drop(labels =['Required', 'Assigned'],axis=1).copy()\n",
    "\n",
    "    return dfStore, input_dfWarehouse\n"
   ]
  },
  {
   "cell_type": "code",
   "execution_count": 9,
   "metadata": {},
   "outputs": [
    {
     "data": {
      "text/html": [
       "<div>\n",
       "<style scoped>\n",
       "    .dataframe tbody tr th:only-of-type {\n",
       "        vertical-align: middle;\n",
       "    }\n",
       "\n",
       "    .dataframe tbody tr th {\n",
       "        vertical-align: top;\n",
       "    }\n",
       "\n",
       "    .dataframe thead th {\n",
       "        text-align: right;\n",
       "    }\n",
       "</style>\n",
       "<table border=\"1\" class=\"dataframe\">\n",
       "  <thead>\n",
       "    <tr style=\"text-align: right;\">\n",
       "      <th></th>\n",
       "      <th>Warehouse</th>\n",
       "      <th>Count</th>\n",
       "    </tr>\n",
       "    <tr>\n",
       "      <th>Item</th>\n",
       "      <th></th>\n",
       "      <th></th>\n",
       "    </tr>\n",
       "  </thead>\n",
       "  <tbody>\n",
       "    <tr>\n",
       "      <td>1</td>\n",
       "      <td>Main</td>\n",
       "      <td>824</td>\n",
       "    </tr>\n",
       "    <tr>\n",
       "      <td>2</td>\n",
       "      <td>Main</td>\n",
       "      <td>1145</td>\n",
       "    </tr>\n",
       "    <tr>\n",
       "      <td>3</td>\n",
       "      <td>Main</td>\n",
       "      <td>1354</td>\n",
       "    </tr>\n",
       "    <tr>\n",
       "      <td>4</td>\n",
       "      <td>Main</td>\n",
       "      <td>916</td>\n",
       "    </tr>\n",
       "    <tr>\n",
       "      <td>5</td>\n",
       "      <td>Main</td>\n",
       "      <td>1120</td>\n",
       "    </tr>\n",
       "    <tr>\n",
       "      <td>6</td>\n",
       "      <td>Main</td>\n",
       "      <td>635</td>\n",
       "    </tr>\n",
       "    <tr>\n",
       "      <td>7</td>\n",
       "      <td>Main</td>\n",
       "      <td>1056</td>\n",
       "    </tr>\n",
       "    <tr>\n",
       "      <td>8</td>\n",
       "      <td>Main</td>\n",
       "      <td>824</td>\n",
       "    </tr>\n",
       "    <tr>\n",
       "      <td>9</td>\n",
       "      <td>Main</td>\n",
       "      <td>616</td>\n",
       "    </tr>\n",
       "    <tr>\n",
       "      <td>10</td>\n",
       "      <td>Main</td>\n",
       "      <td>679</td>\n",
       "    </tr>\n",
       "  </tbody>\n",
       "</table>\n",
       "</div>"
      ],
      "text/plain": [
       "     Warehouse  Count\n",
       "Item                 \n",
       "1         Main    824\n",
       "2         Main   1145\n",
       "3         Main   1354\n",
       "4         Main    916\n",
       "5         Main   1120\n",
       "6         Main    635\n",
       "7         Main   1056\n",
       "8         Main    824\n",
       "9         Main    616\n",
       "10        Main    679"
      ]
     },
     "execution_count": 9,
     "metadata": {},
     "output_type": "execute_result"
    }
   ],
   "source": [
    "#Starting Warehouse\n",
    "input_dfWarehouse"
   ]
  },
  {
   "cell_type": "markdown",
   "metadata": {},
   "source": [
    "## 3. Process stores"
   ]
  },
  {
   "cell_type": "code",
   "execution_count": 10,
   "metadata": {},
   "outputs": [],
   "source": [
    "#Process all stores\n",
    "list_df = []\n",
    "for i in storesInOrder:\n",
    "    new_store, input_dfWarehouse = fulfill_store(store_str = i, input_dfWarehouse = input_dfWarehouse)\n",
    "    list_df.append(new_store)\n",
    "    "
   ]
  },
  {
   "cell_type": "code",
   "execution_count": 11,
   "metadata": {},
   "outputs": [
    {
     "data": {
      "text/html": [
       "<div>\n",
       "<style scoped>\n",
       "    .dataframe tbody tr th:only-of-type {\n",
       "        vertical-align: middle;\n",
       "    }\n",
       "\n",
       "    .dataframe tbody tr th {\n",
       "        vertical-align: top;\n",
       "    }\n",
       "\n",
       "    .dataframe thead th {\n",
       "        text-align: right;\n",
       "    }\n",
       "</style>\n",
       "<table border=\"1\" class=\"dataframe\">\n",
       "  <thead>\n",
       "    <tr style=\"text-align: right;\">\n",
       "      <th></th>\n",
       "      <th>Warehouse</th>\n",
       "      <th>Count</th>\n",
       "    </tr>\n",
       "    <tr>\n",
       "      <th>Item</th>\n",
       "      <th></th>\n",
       "      <th></th>\n",
       "    </tr>\n",
       "  </thead>\n",
       "  <tbody>\n",
       "    <tr>\n",
       "      <td>1</td>\n",
       "      <td>Main</td>\n",
       "      <td>73.0</td>\n",
       "    </tr>\n",
       "    <tr>\n",
       "      <td>2</td>\n",
       "      <td>Main</td>\n",
       "      <td>288.0</td>\n",
       "    </tr>\n",
       "    <tr>\n",
       "      <td>3</td>\n",
       "      <td>Main</td>\n",
       "      <td>662.0</td>\n",
       "    </tr>\n",
       "    <tr>\n",
       "      <td>4</td>\n",
       "      <td>Main</td>\n",
       "      <td>159.0</td>\n",
       "    </tr>\n",
       "    <tr>\n",
       "      <td>5</td>\n",
       "      <td>Main</td>\n",
       "      <td>110.0</td>\n",
       "    </tr>\n",
       "    <tr>\n",
       "      <td>6</td>\n",
       "      <td>Main</td>\n",
       "      <td>0.0</td>\n",
       "    </tr>\n",
       "    <tr>\n",
       "      <td>7</td>\n",
       "      <td>Main</td>\n",
       "      <td>0.0</td>\n",
       "    </tr>\n",
       "    <tr>\n",
       "      <td>8</td>\n",
       "      <td>Main</td>\n",
       "      <td>0.0</td>\n",
       "    </tr>\n",
       "    <tr>\n",
       "      <td>9</td>\n",
       "      <td>Main</td>\n",
       "      <td>0.0</td>\n",
       "    </tr>\n",
       "    <tr>\n",
       "      <td>10</td>\n",
       "      <td>Main</td>\n",
       "      <td>3.0</td>\n",
       "    </tr>\n",
       "  </tbody>\n",
       "</table>\n",
       "</div>"
      ],
      "text/plain": [
       "     Warehouse  Count\n",
       "Item                 \n",
       "1         Main   73.0\n",
       "2         Main  288.0\n",
       "3         Main  662.0\n",
       "4         Main  159.0\n",
       "5         Main  110.0\n",
       "6         Main    0.0\n",
       "7         Main    0.0\n",
       "8         Main    0.0\n",
       "9         Main    0.0\n",
       "10        Main    3.0"
      ]
     },
     "execution_count": 11,
     "metadata": {},
     "output_type": "execute_result"
    }
   ],
   "source": [
    "#ending warehouse\n",
    "input_dfWarehouse"
   ]
  },
  {
   "cell_type": "markdown",
   "metadata": {},
   "source": [
    "## 4. Compare to existing results"
   ]
  },
  {
   "cell_type": "code",
   "execution_count": 12,
   "metadata": {},
   "outputs": [],
   "source": [
    "\n",
    "#Load existing results\n",
    "solution_df = pd.read_csv(\"./04_solution.csv\", encoding = \"latin\")"
   ]
  },
  {
   "cell_type": "code",
   "execution_count": 13,
   "metadata": {},
   "outputs": [],
   "source": [
    "# At this point, the results exist as a dataframe per store with all the potential items with the corresponding assignments.\n",
    "# The output to compare against is a single dataframe with all stores with only the items that were required\n",
    "\n",
    "#1. Concatenate all the stores\n",
    "updated_stores = pd.concat(list_df,axis=0)\n",
    "\n",
    "updated_stores['Item'] = updated_stores.index\n",
    "\n",
    "output_df = input_dfStores[['Store','Priority','City','State']].merge(updated_stores, left_on='Store', right_on='Store')\n",
    "\n",
    "#2. Keep only items with a requirement, change the order of the columns to match the order in the solutions and match the dtypes\n",
    "test = output_df[output_df['Required']!=0][solution_df.columns].astype({'Required':'int64', 'Assigned':'int64'})\n",
    "test.reset_index(drop=True, inplace=True)"
   ]
  },
  {
   "cell_type": "code",
   "execution_count": 14,
   "metadata": {},
   "outputs": [
    {
     "data": {
      "text/plain": [
       "True"
      ]
     },
     "execution_count": 14,
     "metadata": {},
     "output_type": "execute_result"
    }
   ],
   "source": [
    "test.equals(solution_df)"
   ]
  }
 ],
 "metadata": {
  "kernelspec": {
   "display_name": "Python 3",
   "language": "python",
   "name": "python3"
  },
  "language_info": {
   "codemirror_mode": {
    "name": "ipython",
    "version": 3
   },
   "file_extension": ".py",
   "mimetype": "text/x-python",
   "name": "python",
   "nbconvert_exporter": "python",
   "pygments_lexer": "ipython3",
   "version": "3.7.4"
  }
 },
 "nbformat": 4,
 "nbformat_minor": 2
}
