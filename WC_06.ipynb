{
 "cells": [
  {
   "cell_type": "markdown",
   "metadata": {},
   "source": [
    "# Weekly Challenge 06\n",
    "\n",
    "*Original URL* https://community.alteryx.com/t5/Weekly-Challenge/Challenge-6-Spatial-Route/td-p/36733 and [**My Alteryx Approach**](https://github.com/dsmdavid/Alteryx-Weekly-Challenge/tree/master/submitted/sub_Challenge%2306)\n",
    "\n",
    "## Brief\n",
    "\n",
    "The challenge for week 6 will focus on analyzing distance traveled by sales reps.\n",
    "\n",
    "\n",
    "Sales reps are travelling all over the US. The data contained in the workflow details the travel paths for 7 Reps to 7 different cities. The travel route is detailed as well. The objective of this challenge is to determine which Rep has logged the most miles. Please include the route traveled as a spatial object in the output.\n"
   ]
  },
  {
   "cell_type": "markdown",
   "metadata": {},
   "source": [
    "## Approach I want to follow:\n",
    "1. Read the data.\n",
    "1. Calculate the distance between each point and the next and sum.\n",
    "1. Combine the points in order for each repr and print the route."
   ]
  },
  {
   "cell_type": "code",
   "execution_count": 1,
   "metadata": {},
   "outputs": [],
   "source": [
    "import geopandas\n",
    "from shapely.geometry import LineString\n",
    "from geopy.distance import geodesic, great_circle, lonlat\n",
    "import pandas as pd\n",
    "\n",
    "%matplotlib inline"
   ]
  },
  {
   "cell_type": "code",
   "execution_count": 2,
   "metadata": {},
   "outputs": [
    {
     "data": {
      "text/html": [
       "<div>\n",
       "<style>\n",
       "    .dataframe thead tr:only-child th {\n",
       "        text-align: right;\n",
       "    }\n",
       "\n",
       "    .dataframe thead th {\n",
       "        text-align: left;\n",
       "    }\n",
       "\n",
       "    .dataframe tbody tr th {\n",
       "        vertical-align: top;\n",
       "    }\n",
       "</style>\n",
       "<table border=\"1\" class=\"dataframe\">\n",
       "  <thead>\n",
       "    <tr style=\"text-align: right;\">\n",
       "      <th></th>\n",
       "      <th>Airport_Ci</th>\n",
       "      <th>REP</th>\n",
       "      <th>TripOrder</th>\n",
       "      <th>geometry</th>\n",
       "    </tr>\n",
       "  </thead>\n",
       "  <tbody>\n",
       "    <tr>\n",
       "      <th>0</th>\n",
       "      <td>Hartford-West Hartford-East Hartford, CT Metro</td>\n",
       "      <td>Cathy</td>\n",
       "      <td>1</td>\n",
       "      <td>POINT (-72.577485 41.735909)</td>\n",
       "    </tr>\n",
       "    <tr>\n",
       "      <th>1</th>\n",
       "      <td>Indianapolis-Carmel-Anderson, IN Metro</td>\n",
       "      <td>Cathy</td>\n",
       "      <td>2</td>\n",
       "      <td>POINT (-86.206137 39.747431)</td>\n",
       "    </tr>\n",
       "    <tr>\n",
       "      <th>2</th>\n",
       "      <td>Springfield, MA Metro</td>\n",
       "      <td>Cathy</td>\n",
       "      <td>3</td>\n",
       "      <td>POINT (-72.64674100000001 42.230068)</td>\n",
       "    </tr>\n",
       "    <tr>\n",
       "      <th>3</th>\n",
       "      <td>Reno, NV Metro</td>\n",
       "      <td>Cathy</td>\n",
       "      <td>4</td>\n",
       "      <td>POINT (-119.660656 40.638609)</td>\n",
       "    </tr>\n",
       "    <tr>\n",
       "      <th>4</th>\n",
       "      <td>Cleveland-Elyria, OH Metro</td>\n",
       "      <td>Cathy</td>\n",
       "      <td>5</td>\n",
       "      <td>POINT (-81.683882 41.375258)</td>\n",
       "    </tr>\n",
       "  </tbody>\n",
       "</table>\n",
       "</div>"
      ],
      "text/plain": [
       "                                       Airport_Ci    REP  TripOrder  \\\n",
       "0  Hartford-West Hartford-East Hartford, CT Metro  Cathy          1   \n",
       "1          Indianapolis-Carmel-Anderson, IN Metro  Cathy          2   \n",
       "2                           Springfield, MA Metro  Cathy          3   \n",
       "3                                  Reno, NV Metro  Cathy          4   \n",
       "4                      Cleveland-Elyria, OH Metro  Cathy          5   \n",
       "\n",
       "                               geometry  \n",
       "0          POINT (-72.577485 41.735909)  \n",
       "1          POINT (-86.206137 39.747431)  \n",
       "2  POINT (-72.64674100000001 42.230068)  \n",
       "3         POINT (-119.660656 40.638609)  \n",
       "4          POINT (-81.683882 41.375258)  "
      ]
     },
     "execution_count": 2,
     "metadata": {},
     "output_type": "execute_result"
    }
   ],
   "source": [
    "#read data\n",
    "df = geopandas.read_file(\"./06_files/input.shp\")\n",
    "df.head()"
   ]
  },
  {
   "cell_type": "code",
   "execution_count": 3,
   "metadata": {
    "collapsed": true
   },
   "outputs": [],
   "source": [
    "def to_geopy(point):\n",
    "    '''Geopandas uses (longitude, latitude); whereas geopy uses (latitude, longitude). This parses\n",
    "    geopandas/shapely points into geopy points to use them in the distance calculator'''\n",
    "    return lonlat(point.x, point.y)\n",
    "\n",
    "def distance_point_gp(point1, point2,dist_type='geodesic'):\n",
    "    '''returns geodesic distance when using geopy points'''\n",
    "    if dist_type == 'great_circle':\n",
    "        return great_circle(point1, point2).miles\n",
    "    else:\n",
    "        return geodesic(point1,point2).miles\n",
    "    \n",
    "def get_distance(df, rep, dist_type):\n",
    "    temp = df[df['REP']==rep].copy()\n",
    "    temp['next'] = temp['point'].shift(1)\n",
    "    temp['distance'] = temp[temp['next'].isnull()==False][['point','next']].apply(lambda x: distance_point_gp(x['point'], x['next'], dist_type), axis =1)\n",
    "    return temp['distance'].sum()\n",
    "\n",
    "def get_routes(df):\n",
    "    ##Get the routes as lines##\n",
    "    df2 = df.dissolve(by='REP')\n",
    "    #Create the polyline\n",
    "    df2['line'] = df2['geometry'].apply(LineString)\n",
    "    #Set the new line as the active geometry\n",
    "    df2 = df2.set_geometry('line') \n",
    "    #Keep only relevant columns\n",
    "    return df2.join(df_distances)[['line','distance']].sort_values(by='distance', ascending=False).reset_index()\n",
    "    "
   ]
  },
  {
   "cell_type": "code",
   "execution_count": 4,
   "metadata": {},
   "outputs": [
    {
     "data": {
      "text/html": [
       "<div>\n",
       "<style>\n",
       "    .dataframe thead tr:only-child th {\n",
       "        text-align: right;\n",
       "    }\n",
       "\n",
       "    .dataframe thead th {\n",
       "        text-align: left;\n",
       "    }\n",
       "\n",
       "    .dataframe tbody tr th {\n",
       "        vertical-align: top;\n",
       "    }\n",
       "</style>\n",
       "<table border=\"1\" class=\"dataframe\">\n",
       "  <thead>\n",
       "    <tr style=\"text-align: right;\">\n",
       "      <th></th>\n",
       "      <th>distance</th>\n",
       "    </tr>\n",
       "  </thead>\n",
       "  <tbody>\n",
       "    <tr>\n",
       "      <th>Diana</th>\n",
       "      <td>9101.343658</td>\n",
       "    </tr>\n",
       "    <tr>\n",
       "      <th>Cathy</th>\n",
       "      <td>6794.737789</td>\n",
       "    </tr>\n",
       "    <tr>\n",
       "      <th>Dan</th>\n",
       "      <td>6230.891198</td>\n",
       "    </tr>\n",
       "    <tr>\n",
       "      <th>James</th>\n",
       "      <td>6172.646807</td>\n",
       "    </tr>\n",
       "    <tr>\n",
       "      <th>Steve</th>\n",
       "      <td>4259.534776</td>\n",
       "    </tr>\n",
       "    <tr>\n",
       "      <th>Scott</th>\n",
       "      <td>4189.106581</td>\n",
       "    </tr>\n",
       "    <tr>\n",
       "      <th>Mark</th>\n",
       "      <td>3215.240449</td>\n",
       "    </tr>\n",
       "  </tbody>\n",
       "</table>\n",
       "</div>"
      ],
      "text/plain": [
       "          distance\n",
       "Diana  9101.343658\n",
       "Cathy  6794.737789\n",
       "Dan    6230.891198\n",
       "James  6172.646807\n",
       "Steve  4259.534776\n",
       "Scott  4189.106581\n",
       "Mark   3215.240449"
      ]
     },
     "execution_count": 4,
     "metadata": {},
     "output_type": "execute_result"
    }
   ],
   "source": [
    "df['point'] = df['geometry'].apply(to_geopy) #get_geopy_points\n",
    "\n",
    "distances = {} \n",
    "dist_type = 'geodesic' ##change to 'great_circle' or 'geodesic'\n",
    "\n",
    "# I'm pretty sure this ##Calculate the distance traveled by each rep and add it to the dictionary## \n",
    "# is easier done with some groupby, but don't know how\n",
    "for rep in df['REP']: \n",
    "    distances[rep] = get_distance(df, rep, dist_type)\n",
    "\n",
    "df_distances = pd.DataFrame.from_dict(distances, orient='index')\n",
    "df_distances.columns = ['distance']\n",
    "df_distances.sort_values(by='distance', ascending=False, inplace=True)\n",
    "df_distances\n"
   ]
  },
  {
   "cell_type": "code",
   "execution_count": 5,
   "metadata": {},
   "outputs": [
    {
     "name": "stdout",
     "output_type": "stream",
     "text": [
      "     REP                                               line     distance\n",
      "0  Diana  LINESTRING (-121.847665 47.557175, -118.149366...  9101.343658\n",
      "1  Cathy  LINESTRING (-119.660656 40.638609, -89.591695 ...  6794.737789\n",
      "2    Dan  LINESTRING (-112.070554 33.185508, -106.471533...  6230.891198\n",
      "3  James  LINESTRING (-122.846159 43.938519, -113.041258...  6172.646807\n",
      "4  Steve  LINESTRING (-104.689616 41.307065, -97.503812 ...  4259.534776\n",
      "5  Scott  LINESTRING (-104.893931 39.433975, -96.9900740...  4189.106581\n",
      "6   Mark  LINESTRING (-94.123458 36.194649, -92.309235 3...  3215.240449\n"
     ]
    },
    {
     "data": {
      "text/plain": [
       "<matplotlib.axes._subplots.AxesSubplot at 0x25cee82b080>"
      ]
     },
     "execution_count": 5,
     "metadata": {},
     "output_type": "execute_result"
    },
    {
     "data": {
      "image/png": "[encoded data removed]",
      "text/plain": [
       "<Figure size 432x288 with 1 Axes>"
      ]
     },
     "metadata": {},
     "output_type": "display_data"
    }
   ],
   "source": [
    "df3 = get_routes(df)\n",
    "print(df3)\n",
    "##Plot the lines using the US background\n",
    "\n",
    "world = geopandas.read_file(geopandas.datasets.get_path('naturalearth_lowres'))\n",
    "base = world[world['name']=='United States'].plot(color='lightgrey', edgecolor='darkgrey')\n",
    "df3.plot(ax=base, column='REP')\n"
   ]
  },
  {
   "cell_type": "code",
   "execution_count": null,
   "metadata": {
    "collapsed": true
   },
   "outputs": [],
   "source": []
  }
 ],
 "metadata": {
  "kernelspec": {
   "display_name": "Python 3",
   "language": "python",
   "name": "python3"
  },
  "language_info": {
   "codemirror_mode": {
    "name": "ipython",
    "version": 3
   },
   "file_extension": ".py",
   "mimetype": "text/x-python",
   "name": "python",
   "nbconvert_exporter": "python",
   "pygments_lexer": "ipython3",
   "version": "3.7.0"
  }
 },
 "nbformat": 4,
 "nbformat_minor": 2
}
