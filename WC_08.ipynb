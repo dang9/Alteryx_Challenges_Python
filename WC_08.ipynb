{
 "cells": [
  {
   "cell_type": "markdown",
   "metadata": {},
   "source": [
    "# Weekly Challenge 08\n",
    "\n",
    "*Original URL* https://community.alteryx.com/t5/Weekly-Challenge/Challenge-8-Aggregate-Consumer-Purchases/td-p/36735 and [**My Alteryx Approach**](https://github.com/dsmdavid/Alteryx-Weekly-Challenge/tree/master/submitted/sub_Challenge%2308)\n",
    "\n",
    "## Brief\n",
    "\n",
    "### Aggregate Consumer Purchases:\n",
    "\n",
    "For this week’s exercise we will look at customer purchase behavior to decide if we should offer a “Meal Deal” that would add a side and drink to a purchase of pizza or a burger. The incoming data is larger than usual for these exercises so I have packaged the workflow as an Alteryx Package.\n",
    "\n",
    "**This week’s Objective:**\n",
    "\n",
    "In order to decide if we should start including a new \"Meal Deal\" on our menu we want to study the potential impact on recent transactions. Please identify the number and percentage of orders since July 1, 2013 which include the following categories of food: Pizza OR Burger along with a Side and Drink.\n",
    "\n",
    " \n",
    "**Summary of Data:**\n",
    "\n",
    "Point of Sale data includes the ticket level information, and the lookup table categorizes items into higher level food categories.\n",
    "\n",
    "\n",
    "Hint:\n",
    "\n",
    "Don't forget to join to the lookup table and filter by date.\n",
    " \n",
    "\n",
    "As always we look forward to your feedback and suggestions!"
   ]
  },
  {
   "cell_type": "code",
   "execution_count": 1,
   "metadata": {},
   "outputs": [],
   "source": [
    "import pandas as pd\n"
   ]
  },
  {
   "cell_type": "markdown",
   "metadata": {
    "slideshow": {
     "slide_type": "fragment"
    }
   },
   "source": [
    "## Approach I want to follow:\n",
    "1. Read the data.\n",
    "1. Filter and join.\n",
    "1. Transform and assign \"Target\"."
   ]
  },
  {
   "cell_type": "code",
   "execution_count": 2,
   "metadata": {},
   "outputs": [
    {
     "data": {
      "text/html": [
       "<div>\n",
       "<style scoped>\n",
       "    .dataframe tbody tr th:only-of-type {\n",
       "        vertical-align: middle;\n",
       "    }\n",
       "\n",
       "    .dataframe tbody tr th {\n",
       "        vertical-align: top;\n",
       "    }\n",
       "\n",
       "    .dataframe thead th {\n",
       "        text-align: right;\n",
       "    }\n",
       "</style>\n",
       "<table border=\"1\" class=\"dataframe\">\n",
       "  <thead>\n",
       "    <tr style=\"text-align: right;\">\n",
       "      <th></th>\n",
       "      <th>Desc</th>\n",
       "      <th>Type</th>\n",
       "    </tr>\n",
       "  </thead>\n",
       "  <tbody>\n",
       "    <tr>\n",
       "      <th>0</th>\n",
       "      <td>Bacon Burger</td>\n",
       "      <td>Burger</td>\n",
       "    </tr>\n",
       "    <tr>\n",
       "      <th>1</th>\n",
       "      <td>Barbecue Chicken - Large</td>\n",
       "      <td>Pizza</td>\n",
       "    </tr>\n",
       "    <tr>\n",
       "      <th>2</th>\n",
       "      <td>Barbecue Chicken - Medium</td>\n",
       "      <td>Pizza</td>\n",
       "    </tr>\n",
       "    <tr>\n",
       "      <th>3</th>\n",
       "      <td>Barbecue Chicken - Small</td>\n",
       "      <td>Pizza</td>\n",
       "    </tr>\n",
       "    <tr>\n",
       "      <th>4</th>\n",
       "      <td>Buffalo Chicken - Large</td>\n",
       "      <td>Pizza</td>\n",
       "    </tr>\n",
       "  </tbody>\n",
       "</table>\n",
       "</div>"
      ],
      "text/plain": [
       "                        Desc    Type\n",
       "0               Bacon Burger  Burger\n",
       "1   Barbecue Chicken - Large   Pizza\n",
       "2  Barbecue Chicken - Medium   Pizza\n",
       "3   Barbecue Chicken - Small   Pizza\n",
       "4    Buffalo Chicken - Large   Pizza"
      ]
     },
     "execution_count": 2,
     "metadata": {},
     "output_type": "execute_result"
    }
   ],
   "source": [
    "#Load the look up table\n",
    "df_lookup = pd.read_csv(\"./08_files/LookupTable.csv\")#,dtype=int)\n",
    "df_lookup.head()"
   ]
  },
  {
   "cell_type": "code",
   "execution_count": 3,
   "metadata": {},
   "outputs": [
    {
     "data": {
      "text/html": [
       "<div>\n",
       "<style scoped>\n",
       "    .dataframe tbody tr th:only-of-type {\n",
       "        vertical-align: middle;\n",
       "    }\n",
       "\n",
       "    .dataframe tbody tr th {\n",
       "        vertical-align: top;\n",
       "    }\n",
       "\n",
       "    .dataframe thead th {\n",
       "        text-align: right;\n",
       "    }\n",
       "</style>\n",
       "<table border=\"1\" class=\"dataframe\">\n",
       "  <thead>\n",
       "    <tr style=\"text-align: right;\">\n",
       "      <th></th>\n",
       "      <th>TicketID</th>\n",
       "      <th>Date</th>\n",
       "      <th>MemberID</th>\n",
       "      <th>Desc</th>\n",
       "      <th>Price</th>\n",
       "    </tr>\n",
       "  </thead>\n",
       "  <tbody>\n",
       "    <tr>\n",
       "      <th>0</th>\n",
       "      <td>100004</td>\n",
       "      <td>2013-01-07</td>\n",
       "      <td>NaN</td>\n",
       "      <td>Mozzarella Sticks</td>\n",
       "      <td>7.0</td>\n",
       "    </tr>\n",
       "    <tr>\n",
       "      <th>1</th>\n",
       "      <td>100004</td>\n",
       "      <td>2013-01-07</td>\n",
       "      <td>NaN</td>\n",
       "      <td>Jalapeno Poppers</td>\n",
       "      <td>7.0</td>\n",
       "    </tr>\n",
       "    <tr>\n",
       "      <th>2</th>\n",
       "      <td>100004</td>\n",
       "      <td>2013-01-07</td>\n",
       "      <td>NaN</td>\n",
       "      <td>Onion Rings</td>\n",
       "      <td>7.0</td>\n",
       "    </tr>\n",
       "    <tr>\n",
       "      <th>3</th>\n",
       "      <td>100004</td>\n",
       "      <td>2013-01-07</td>\n",
       "      <td>NaN</td>\n",
       "      <td>Onion Rings</td>\n",
       "      <td>7.0</td>\n",
       "    </tr>\n",
       "    <tr>\n",
       "      <th>4</th>\n",
       "      <td>100004</td>\n",
       "      <td>2013-01-07</td>\n",
       "      <td>NaN</td>\n",
       "      <td>Supreme - Small</td>\n",
       "      <td>9.0</td>\n",
       "    </tr>\n",
       "  </tbody>\n",
       "</table>\n",
       "</div>"
      ],
      "text/plain": [
       "   TicketID        Date  MemberID               Desc  Price\n",
       "0    100004  2013-01-07       NaN  Mozzarella Sticks    7.0\n",
       "1    100004  2013-01-07       NaN   Jalapeno Poppers    7.0\n",
       "2    100004  2013-01-07       NaN        Onion Rings    7.0\n",
       "3    100004  2013-01-07       NaN        Onion Rings    7.0\n",
       "4    100004  2013-01-07       NaN    Supreme - Small    9.0"
      ]
     },
     "execution_count": 3,
     "metadata": {},
     "output_type": "execute_result"
    }
   ],
   "source": [
    "#Read the dataframe\n",
    "df = pd.read_csv(\"./08_files/PointOfSale.csv\")#,dtype=int)\n",
    "df.head()"
   ]
  },
  {
   "cell_type": "code",
   "execution_count": 4,
   "metadata": {},
   "outputs": [
    {
     "data": {
      "text/html": [
       "<div>\n",
       "<style scoped>\n",
       "    .dataframe tbody tr th:only-of-type {\n",
       "        vertical-align: middle;\n",
       "    }\n",
       "\n",
       "    .dataframe tbody tr th {\n",
       "        vertical-align: top;\n",
       "    }\n",
       "\n",
       "    .dataframe thead th {\n",
       "        text-align: right;\n",
       "    }\n",
       "</style>\n",
       "<table border=\"1\" class=\"dataframe\">\n",
       "  <thead>\n",
       "    <tr style=\"text-align: right;\">\n",
       "      <th></th>\n",
       "      <th>TicketID</th>\n",
       "      <th>Date</th>\n",
       "      <th>MemberID</th>\n",
       "      <th>Desc</th>\n",
       "      <th>Price</th>\n",
       "      <th>Type</th>\n",
       "    </tr>\n",
       "  </thead>\n",
       "  <tbody>\n",
       "    <tr>\n",
       "      <th>0</th>\n",
       "      <td>102398</td>\n",
       "      <td>2013-07-01</td>\n",
       "      <td>NaN</td>\n",
       "      <td>House Made Potato Chips</td>\n",
       "      <td>3.0</td>\n",
       "      <td>Side</td>\n",
       "    </tr>\n",
       "    <tr>\n",
       "      <th>1</th>\n",
       "      <td>102424</td>\n",
       "      <td>2013-07-01</td>\n",
       "      <td>NaN</td>\n",
       "      <td>House Made Potato Chips</td>\n",
       "      <td>3.0</td>\n",
       "      <td>Side</td>\n",
       "    </tr>\n",
       "    <tr>\n",
       "      <th>2</th>\n",
       "      <td>102443</td>\n",
       "      <td>2013-07-01</td>\n",
       "      <td>991857.0</td>\n",
       "      <td>House Made Potato Chips</td>\n",
       "      <td>3.0</td>\n",
       "      <td>Side</td>\n",
       "    </tr>\n",
       "    <tr>\n",
       "      <th>3</th>\n",
       "      <td>102463</td>\n",
       "      <td>2013-07-01</td>\n",
       "      <td>NaN</td>\n",
       "      <td>House Made Potato Chips</td>\n",
       "      <td>3.0</td>\n",
       "      <td>Side</td>\n",
       "    </tr>\n",
       "    <tr>\n",
       "      <th>4</th>\n",
       "      <td>102464</td>\n",
       "      <td>2013-07-01</td>\n",
       "      <td>NaN</td>\n",
       "      <td>House Made Potato Chips</td>\n",
       "      <td>3.0</td>\n",
       "      <td>Side</td>\n",
       "    </tr>\n",
       "  </tbody>\n",
       "</table>\n",
       "</div>"
      ],
      "text/plain": [
       "   TicketID        Date  MemberID                     Desc  Price  Type\n",
       "0    102398  2013-07-01       NaN  House Made Potato Chips    3.0  Side\n",
       "1    102424  2013-07-01       NaN  House Made Potato Chips    3.0  Side\n",
       "2    102443  2013-07-01  991857.0  House Made Potato Chips    3.0  Side\n",
       "3    102463  2013-07-01       NaN  House Made Potato Chips    3.0  Side\n",
       "4    102464  2013-07-01       NaN  House Made Potato Chips    3.0  Side"
      ]
     },
     "execution_count": 4,
     "metadata": {},
     "output_type": "execute_result"
    }
   ],
   "source": [
    "# Keep only values with date >= 2013-07-01 and bring the Type info from the lookup:\n",
    "\n",
    "temp_df = pd.merge(df[df['Date'] >= \"2013-07-01\"], df_lookup, on='Desc')\n",
    "temp_df.head()"
   ]
  },
  {
   "cell_type": "code",
   "execution_count": 5,
   "metadata": {},
   "outputs": [
    {
     "data": {
      "text/html": [
       "<div>\n",
       "<style scoped>\n",
       "    .dataframe tbody tr th:only-of-type {\n",
       "        vertical-align: middle;\n",
       "    }\n",
       "\n",
       "    .dataframe tbody tr th {\n",
       "        vertical-align: top;\n",
       "    }\n",
       "\n",
       "    .dataframe thead th {\n",
       "        text-align: right;\n",
       "    }\n",
       "</style>\n",
       "<table border=\"1\" class=\"dataframe\">\n",
       "  <thead>\n",
       "    <tr style=\"text-align: right;\">\n",
       "      <th>Type</th>\n",
       "      <th>Burger</th>\n",
       "      <th>Drink</th>\n",
       "      <th>Pizza</th>\n",
       "      <th>Salad</th>\n",
       "      <th>Side</th>\n",
       "      <th>Soup</th>\n",
       "    </tr>\n",
       "    <tr>\n",
       "      <th>TicketID</th>\n",
       "      <th></th>\n",
       "      <th></th>\n",
       "      <th></th>\n",
       "      <th></th>\n",
       "      <th></th>\n",
       "      <th></th>\n",
       "    </tr>\n",
       "  </thead>\n",
       "  <tbody>\n",
       "    <tr>\n",
       "      <th>102398</th>\n",
       "      <td>NaN</td>\n",
       "      <td>Soda - Small</td>\n",
       "      <td>Meat Grinder - Small</td>\n",
       "      <td>House Salad - Half</td>\n",
       "      <td>House Made Potato Chips</td>\n",
       "      <td>Soup of the Day - Cup</td>\n",
       "    </tr>\n",
       "    <tr>\n",
       "      <th>102415</th>\n",
       "      <td>NaN</td>\n",
       "      <td>Soda - Small</td>\n",
       "      <td>Mt. Hawaiian - Large</td>\n",
       "      <td>House Salad - Half</td>\n",
       "      <td>Onion Rings</td>\n",
       "      <td>Soup of the Day - Cup</td>\n",
       "    </tr>\n",
       "    <tr>\n",
       "      <th>102418</th>\n",
       "      <td>NaN</td>\n",
       "      <td>Soda - Large</td>\n",
       "      <td>NaN</td>\n",
       "      <td>Garden Fresh - Medium</td>\n",
       "      <td>NaN</td>\n",
       "      <td>Soup of the Day - Cup</td>\n",
       "    </tr>\n",
       "    <tr>\n",
       "      <th>102424</th>\n",
       "      <td>Bacon Burger</td>\n",
       "      <td>Soda - Small</td>\n",
       "      <td>The Works  - Large</td>\n",
       "      <td>Garden Fresh - Medium</td>\n",
       "      <td>House Made Potato Chips</td>\n",
       "      <td>NaN</td>\n",
       "    </tr>\n",
       "    <tr>\n",
       "      <th>102433</th>\n",
       "      <td>NaN</td>\n",
       "      <td>Soda - Large</td>\n",
       "      <td>Supreme - Large</td>\n",
       "      <td>House Salad - Half</td>\n",
       "      <td>Waffle Fries</td>\n",
       "      <td>Soup of the Day - Cup</td>\n",
       "    </tr>\n",
       "  </tbody>\n",
       "</table>\n",
       "</div>"
      ],
      "text/plain": [
       "Type            Burger         Drink                 Pizza  \\\n",
       "TicketID                                                     \n",
       "102398             NaN  Soda - Small  Meat Grinder - Small   \n",
       "102415             NaN  Soda - Small  Mt. Hawaiian - Large   \n",
       "102418             NaN  Soda - Large                   NaN   \n",
       "102424    Bacon Burger  Soda - Small    The Works  - Large   \n",
       "102433             NaN  Soda - Large       Supreme - Large   \n",
       "\n",
       "Type                      Salad                     Side  \\\n",
       "TicketID                                                   \n",
       "102398       House Salad - Half  House Made Potato Chips   \n",
       "102415       House Salad - Half              Onion Rings   \n",
       "102418    Garden Fresh - Medium                      NaN   \n",
       "102424    Garden Fresh - Medium  House Made Potato Chips   \n",
       "102433       House Salad - Half             Waffle Fries   \n",
       "\n",
       "Type                       Soup  \n",
       "TicketID                         \n",
       "102398    Soup of the Day - Cup  \n",
       "102415    Soup of the Day - Cup  \n",
       "102418    Soup of the Day - Cup  \n",
       "102424                      NaN  \n",
       "102433    Soup of the Day - Cup  "
      ]
     },
     "execution_count": 5,
     "metadata": {},
     "output_type": "execute_result"
    }
   ],
   "source": [
    "# Pivot so that elements of the ticket are in a single row. Keep only the first element of a given type, since we are\n",
    "# only interested in presence/absence.\n",
    "\n",
    "piv_df = temp_df.pivot_table(values='Desc', index='TicketID', columns='Type', aggfunc='first')\n",
    "piv_df.head()"
   ]
  },
  {
   "cell_type": "code",
   "execution_count": 6,
   "metadata": {},
   "outputs": [],
   "source": [
    "# Convert it to a boolean for presence/absence\n",
    "piv_bool = piv_df.applymap(pd.notna)\n",
    "\n",
    "#Target: (Pizza OR Burger) & (Side & Drink)\n",
    "piv_bool['target'] = (piv_bool['Burger'] | piv_bool['Pizza']) & piv_bool['Side'] & piv_bool['Drink']"
   ]
  },
  {
   "cell_type": "code",
   "execution_count": 7,
   "metadata": {},
   "outputs": [
    {
     "data": {
      "text/html": [
       "<div>\n",
       "<style scoped>\n",
       "    .dataframe tbody tr th:only-of-type {\n",
       "        vertical-align: middle;\n",
       "    }\n",
       "\n",
       "    .dataframe tbody tr th {\n",
       "        vertical-align: top;\n",
       "    }\n",
       "\n",
       "    .dataframe thead th {\n",
       "        text-align: right;\n",
       "    }\n",
       "</style>\n",
       "<table border=\"1\" class=\"dataframe\">\n",
       "  <thead>\n",
       "    <tr style=\"text-align: right;\">\n",
       "      <th>Type</th>\n",
       "      <th>Burger</th>\n",
       "      <th>Drink</th>\n",
       "      <th>Pizza</th>\n",
       "      <th>Salad</th>\n",
       "      <th>Side</th>\n",
       "      <th>Soup</th>\n",
       "      <th>target</th>\n",
       "    </tr>\n",
       "    <tr>\n",
       "      <th>TicketID</th>\n",
       "      <th></th>\n",
       "      <th></th>\n",
       "      <th></th>\n",
       "      <th></th>\n",
       "      <th></th>\n",
       "      <th></th>\n",
       "      <th></th>\n",
       "    </tr>\n",
       "  </thead>\n",
       "  <tbody>\n",
       "    <tr>\n",
       "      <th>102398</th>\n",
       "      <td>False</td>\n",
       "      <td>True</td>\n",
       "      <td>True</td>\n",
       "      <td>True</td>\n",
       "      <td>True</td>\n",
       "      <td>True</td>\n",
       "      <td>True</td>\n",
       "    </tr>\n",
       "    <tr>\n",
       "      <th>102415</th>\n",
       "      <td>False</td>\n",
       "      <td>True</td>\n",
       "      <td>True</td>\n",
       "      <td>True</td>\n",
       "      <td>True</td>\n",
       "      <td>True</td>\n",
       "      <td>True</td>\n",
       "    </tr>\n",
       "    <tr>\n",
       "      <th>102418</th>\n",
       "      <td>False</td>\n",
       "      <td>True</td>\n",
       "      <td>False</td>\n",
       "      <td>True</td>\n",
       "      <td>False</td>\n",
       "      <td>True</td>\n",
       "      <td>False</td>\n",
       "    </tr>\n",
       "    <tr>\n",
       "      <th>102424</th>\n",
       "      <td>True</td>\n",
       "      <td>True</td>\n",
       "      <td>True</td>\n",
       "      <td>True</td>\n",
       "      <td>True</td>\n",
       "      <td>False</td>\n",
       "      <td>True</td>\n",
       "    </tr>\n",
       "    <tr>\n",
       "      <th>102433</th>\n",
       "      <td>False</td>\n",
       "      <td>True</td>\n",
       "      <td>True</td>\n",
       "      <td>True</td>\n",
       "      <td>True</td>\n",
       "      <td>True</td>\n",
       "      <td>True</td>\n",
       "    </tr>\n",
       "  </tbody>\n",
       "</table>\n",
       "</div>"
      ],
      "text/plain": [
       "Type      Burger  Drink  Pizza  Salad   Side   Soup  target\n",
       "TicketID                                                   \n",
       "102398     False   True   True   True   True   True    True\n",
       "102415     False   True   True   True   True   True    True\n",
       "102418     False   True  False   True  False   True   False\n",
       "102424      True   True   True   True   True  False    True\n",
       "102433     False   True   True   True   True   True    True"
      ]
     },
     "execution_count": 7,
     "metadata": {},
     "output_type": "execute_result"
    }
   ],
   "source": [
    "piv_bool.head()"
   ]
  },
  {
   "cell_type": "code",
   "execution_count": 8,
   "metadata": {},
   "outputs": [],
   "source": [
    "# Summarize\n",
    "values = {}\n",
    "values['total'] = len(piv_bool)\n",
    "values['target'] = piv_bool['target'].sum()\n",
    "values['percentage'] = 100 * values['target'] / values['total']"
   ]
  },
  {
   "cell_type": "code",
   "execution_count": 9,
   "metadata": {},
   "outputs": [
    {
     "name": "stdout",
     "output_type": "stream",
     "text": [
      "{'total': 15497, 'target': 10964, 'percentage': 70.74917726011486}\n"
     ]
    }
   ],
   "source": [
    "print(values)"
   ]
  },
  {
   "cell_type": "markdown",
   "metadata": {},
   "source": [
    "## Condensed approach:"
   ]
  },
  {
   "cell_type": "code",
   "execution_count": 10,
   "metadata": {},
   "outputs": [],
   "source": [
    "import time\n",
    "t1 = time.time()\n",
    "import pandas as pd"
   ]
  },
  {
   "cell_type": "code",
   "execution_count": 11,
   "metadata": {},
   "outputs": [
    {
     "name": "stdout",
     "output_type": "stream",
     "text": [
      "{'total': 15497, 'target': 10964, 'percentage': 70.74917726011486}\n"
     ]
    }
   ],
   "source": [
    "#Input data\n",
    "df_lookup = pd.read_csv(\"./08_files/LookupTable.csv\")#,dtype=int)\n",
    "df = pd.read_csv(\"./08_files/PointOfSale.csv\")#,dtype=int)\n",
    "\n",
    "#Join, filter, pivot, convert to bool\n",
    "piv_bool = pd.merge(df[df['Date'] >= \"2013-07-01\"], df_lookup, on='Desc').pivot_table(values='Desc', index='TicketID', columns='Type', aggfunc='first').applymap(pd.notna)\n",
    "#Apply target definition\n",
    "piv_bool['target'] = (piv_bool['Burger'] | piv_bool['Pizza']) & piv_bool['Side'] & piv_bool['Drink']\n",
    "\n",
    "# Summarize\n",
    "values = {}\n",
    "values['total'] = len(piv_bool)\n",
    "values['target'] = piv_bool['target'].sum()\n",
    "values['percentage'] = 100 * values['target'] / values['total']\n",
    "\n",
    "print(values)\n"
   ]
  },
  {
   "cell_type": "code",
   "execution_count": 12,
   "metadata": {},
   "outputs": [
    {
     "data": {
      "text/plain": [
       "0.5724692344665527"
      ]
     },
     "execution_count": 12,
     "metadata": {},
     "output_type": "execute_result"
    }
   ],
   "source": [
    "t2 = time.time()\n",
    "t2-t1"
   ]
  },
  {
   "cell_type": "code",
   "execution_count": null,
   "metadata": {},
   "outputs": [],
   "source": []
  }
 ],
 "metadata": {
  "kernelspec": {
   "display_name": "Python 3",
   "language": "python",
   "name": "python3"
  },
  "language_info": {
   "codemirror_mode": {
    "name": "ipython",
    "version": 3
   },
   "file_extension": ".py",
   "mimetype": "text/x-python",
   "name": "python",
   "nbconvert_exporter": "python",
   "pygments_lexer": "ipython3",
   "version": "3.7.0"
  }
 },
 "nbformat": 4,
 "nbformat_minor": 2
}
