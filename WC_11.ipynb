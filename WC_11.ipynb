{
 "cells": [
  {
   "cell_type": "markdown",
   "metadata": {},
   "source": [
    "# Weekly Challenge 11\n",
    "\n",
    "*Original URL* https://community.alteryx.com/t5/Weekly-Challenge/Challenge-11-Identify-Logical-Groups/td-p/36739 and [**My Alteryx Approach**](https://github.com/dsmdavid/Alteryx-Weekly-Challenge/tree/master/submitted/sub_Challenge%2311)\n",
    "\n",
    "## Brief\n",
    "\n",
    "### Basic Text Mining:\n",
    "\n",
    "For this exercise let’s look at some simple text mining that can be performed with Alteryx. There are several ways to do this challenge, I will provide one solution that uses a batch macro and one that does it without. It is a great example to see how batch macros can simplify a workflow.\n",
    "\n",
    "The use case:\n",
    "\n",
    "A manufacturing company receives customer complaint data on a daily basis from their call centers about the medical parts they distribute to their customers. The company monitors these comments to understand which parts and part groups have the highest complaint rate. This helps the company prioritize which parts to focus on from a development standpoint.\n",
    "\n",
    "In this exercise, take the customer complaint data (Field_6 in the Test2 data) and identify which bucket the complaint falls within. The complaint can fall into multiple buckets and needs to be flagged as these complaints take highest priority. Create an aggregate view of which buckets or bucket pairings have the highest # of complaints.\n",
    "\n",
    "This is only a subset of data so all records will not be assigned to buckets and can be ignored."
   ]
  },
  {
   "cell_type": "code",
   "execution_count": 1,
   "metadata": {},
   "outputs": [],
   "source": [
    "import pandas as pd"
   ]
  },
  {
   "cell_type": "markdown",
   "metadata": {
    "slideshow": {
     "slide_type": "fragment"
    }
   },
   "source": [
    "## Approach I want to follow:\n",
    "1. Read the data.\n",
    "1. Search each of the buckets in the text field.\n",
    "1. Return a \"sorted bucket\". \n",
    "1. Summarize the results."
   ]
  },
  {
   "cell_type": "code",
   "execution_count": 2,
   "metadata": {},
   "outputs": [
    {
     "data": {
      "text/html": [
       "<div>\n",
       "<style scoped>\n",
       "    .dataframe tbody tr th:only-of-type {\n",
       "        vertical-align: middle;\n",
       "    }\n",
       "\n",
       "    .dataframe tbody tr th {\n",
       "        vertical-align: top;\n",
       "    }\n",
       "\n",
       "    .dataframe thead th {\n",
       "        text-align: right;\n",
       "    }\n",
       "</style>\n",
       "<table border=\"1\" class=\"dataframe\">\n",
       "  <thead>\n",
       "    <tr style=\"text-align: right;\">\n",
       "      <th></th>\n",
       "      <th>Field_6</th>\n",
       "    </tr>\n",
       "  </thead>\n",
       "  <tbody>\n",
       "    <tr>\n",
       "      <th>0</th>\n",
       "      <td>REVIEW OF MANUFACTURING RECORDS FOR BOTH THE P...</td>\n",
       "    </tr>\n",
       "    <tr>\n",
       "      <th>1</th>\n",
       "      <td>ADDITIONAL INFORMATION WAS RECEIVED STATING TH...</td>\n",
       "    </tr>\n",
       "    <tr>\n",
       "      <th>2</th>\n",
       "      <td>DEVICE DIAGNOSTIC TESTING AT OFFICE VISIT RESU...</td>\n",
       "    </tr>\n",
       "    <tr>\n",
       "      <th>3</th>\n",
       "      <td>H6-ANALYSIS RESULTS WERE NOT AVAILABLE AT THE ...</td>\n",
       "    </tr>\n",
       "    <tr>\n",
       "      <th>4</th>\n",
       "      <td>HCP REPORTED THE PUMP WAS IMPLANTED IN 2004. I...</td>\n",
       "    </tr>\n",
       "  </tbody>\n",
       "</table>\n",
       "</div>"
      ],
      "text/plain": [
       "                                             Field_6\n",
       "0  REVIEW OF MANUFACTURING RECORDS FOR BOTH THE P...\n",
       "1  ADDITIONAL INFORMATION WAS RECEIVED STATING TH...\n",
       "2  DEVICE DIAGNOSTIC TESTING AT OFFICE VISIT RESU...\n",
       "3  H6-ANALYSIS RESULTS WERE NOT AVAILABLE AT THE ...\n",
       "4  HCP REPORTED THE PUMP WAS IMPLANTED IN 2004. I..."
      ]
     },
     "execution_count": 2,
     "metadata": {},
     "output_type": "execute_result"
    }
   ],
   "source": [
    "#Load the data\n",
    "#Treate TIMESTAMP and Time_Now as dates\n",
    "df = pd.read_csv(\"./11_files/input.csv\", encoding=\"latin\")     \n",
    "df.head()"
   ]
  },
  {
   "cell_type": "code",
   "execution_count": 3,
   "metadata": {},
   "outputs": [
    {
     "name": "stdout",
     "output_type": "stream",
     "text": [
      "<class 'pandas.core.frame.DataFrame'>\n",
      "RangeIndex: 178889 entries, 0 to 178888\n",
      "Data columns (total 1 columns):\n",
      "Field_6    178883 non-null object\n",
      "dtypes: object(1)\n",
      "memory usage: 1.4+ MB\n"
     ]
    }
   ],
   "source": [
    "df.info()"
   ]
  },
  {
   "cell_type": "code",
   "execution_count": 4,
   "metadata": {},
   "outputs": [],
   "source": [
    "# There are some nan values in the dataframe - convert them to the empty string:\n",
    "df['Field_6'].fillna(value = \"\", inplace=True)"
   ]
  },
  {
   "cell_type": "code",
   "execution_count": 5,
   "metadata": {},
   "outputs": [
    {
     "data": {
      "text/plain": [
       "'REVIEW OF MANUFACTURING RECORDS FOR BOTH THE PULSE GENERATOR AND THE BIPOLAR LEAD REVEALED NO ANOMALIES THAT WOULD ADVERSELY AFFECT DEVICE PERFORMANCE. TREATING NEUROLOGIST IS REPORTEDLY AWAITING MANUFACTURER ASSESSMENT OF X-RAYS BEFORE DETERMINING COURSE OF ACTION. X-RAYS HAVE NOT YET BEEN RECEIVED FOR REVIEW BY MANUFACTURER. H.6. THE VNS THERAPY SYSTEM IS INDICATED FOR USE AS AN ADJUNCTIVE THERAPY IN REDUCING THE FREQUENCY OF SEIZURES IN ADULTS AND ADOLESCENTS WITH PARTIAL ONSET SEIZURES THAT ARE REFRACTORY TO ANTIEPILEPTIC MEDICATIONS. IN THE UNITED STATES, THE VNS THERAPY SYSTEM IS APPROVED FOR USE IN ADULTS AND ADOLESCENTS WITH PARTIAL ONSET SEIZURES THAT ARE REFRACTORY TO ANTIEPILEPTIC MEDICATIONS.'"
      ]
     },
     "execution_count": 5,
     "metadata": {},
     "output_type": "execute_result"
    }
   ],
   "source": [
    "# What does data look like?\n",
    "df.iloc[0]['Field_6']"
   ]
  },
  {
   "cell_type": "code",
   "execution_count": 6,
   "metadata": {},
   "outputs": [
    {
     "data": {
      "text/html": [
       "<div>\n",
       "<style scoped>\n",
       "    .dataframe tbody tr th:only-of-type {\n",
       "        vertical-align: middle;\n",
       "    }\n",
       "\n",
       "    .dataframe tbody tr th {\n",
       "        vertical-align: top;\n",
       "    }\n",
       "\n",
       "    .dataframe thead th {\n",
       "        text-align: right;\n",
       "    }\n",
       "</style>\n",
       "<table border=\"1\" class=\"dataframe\">\n",
       "  <thead>\n",
       "    <tr style=\"text-align: right;\">\n",
       "      <th></th>\n",
       "      <th>Search</th>\n",
       "      <th>Bucket</th>\n",
       "    </tr>\n",
       "  </thead>\n",
       "  <tbody>\n",
       "    <tr>\n",
       "      <th>0</th>\n",
       "      <td>beep</td>\n",
       "      <td>Tones</td>\n",
       "    </tr>\n",
       "    <tr>\n",
       "      <th>1</th>\n",
       "      <td>screen</td>\n",
       "      <td>Screen</td>\n",
       "    </tr>\n",
       "    <tr>\n",
       "      <th>2</th>\n",
       "      <td>trigger</td>\n",
       "      <td>Trigger</td>\n",
       "    </tr>\n",
       "  </tbody>\n",
       "</table>\n",
       "</div>"
      ],
      "text/plain": [
       "    Search   Bucket\n",
       "0     beep    Tones\n",
       "1   screen   Screen\n",
       "2  trigger  Trigger"
      ]
     },
     "execution_count": 6,
     "metadata": {},
     "output_type": "execute_result"
    }
   ],
   "source": [
    "# What are the terms to search / buckets?\n",
    "df_buckets = pd.read_csv(\"./11_files/buckets.csv\", encoding=\"latin\" )\n",
    "df_buckets.head()"
   ]
  },
  {
   "cell_type": "code",
   "execution_count": 7,
   "metadata": {},
   "outputs": [
    {
     "data": {
      "text/html": [
       "<div>\n",
       "<style scoped>\n",
       "    .dataframe tbody tr th:only-of-type {\n",
       "        vertical-align: middle;\n",
       "    }\n",
       "\n",
       "    .dataframe tbody tr th {\n",
       "        vertical-align: top;\n",
       "    }\n",
       "\n",
       "    .dataframe thead th {\n",
       "        text-align: right;\n",
       "    }\n",
       "</style>\n",
       "<table border=\"1\" class=\"dataframe\">\n",
       "  <thead>\n",
       "    <tr style=\"text-align: right;\">\n",
       "      <th></th>\n",
       "      <th>Bucket</th>\n",
       "    </tr>\n",
       "    <tr>\n",
       "      <th>Search</th>\n",
       "      <th></th>\n",
       "    </tr>\n",
       "  </thead>\n",
       "  <tbody>\n",
       "    <tr>\n",
       "      <th>screen</th>\n",
       "      <td>Screen</td>\n",
       "    </tr>\n",
       "    <tr>\n",
       "      <th>beep</th>\n",
       "      <td>Tones</td>\n",
       "    </tr>\n",
       "    <tr>\n",
       "      <th>trigger</th>\n",
       "      <td>Trigger</td>\n",
       "    </tr>\n",
       "  </tbody>\n",
       "</table>\n",
       "</div>"
      ],
      "text/plain": [
       "          Bucket\n",
       "Search          \n",
       "screen    Screen\n",
       "beep       Tones\n",
       "trigger  Trigger"
      ]
     },
     "execution_count": 7,
     "metadata": {},
     "output_type": "execute_result"
    }
   ],
   "source": [
    "# Better to sort them once here:\n",
    "df_bucketsOrdered = df_buckets.sort_values(by = 'Bucket')\n",
    "df_bucketsOrdered.set_index('Search', inplace=True)\n",
    "df_bucketsOrdered"
   ]
  },
  {
   "cell_type": "code",
   "execution_count": 8,
   "metadata": {},
   "outputs": [],
   "source": [
    "def find_buckets(field_6):\n",
    "    '''\n",
    "    Receives a text field and finds the \"search\" terms in the buckets list provided.\n",
    "    Returns a string with all the buckets found displayed in alphabetical order\n",
    "    '''\n",
    "    matched = []\n",
    "    try:\n",
    "        text_to_find = field_6.lower()\n",
    "    except:\n",
    "        print(\"Some error happened here: couldn't convert to lowercase\")\n",
    "        print(field_6)\n",
    "    for i in df_bucketsOrdered.index:\n",
    "        if text_to_find.find(i) != -1:\n",
    "            matched.append(df_bucketsOrdered.loc[i,'Bucket'])\n",
    "        \n",
    "    return \",\".join(matched)\n",
    "    "
   ]
  },
  {
   "cell_type": "code",
   "execution_count": 9,
   "metadata": {},
   "outputs": [],
   "source": [
    "df['Bucket'] = df['Field_6'].apply(find_buckets)"
   ]
  },
  {
   "cell_type": "code",
   "execution_count": 10,
   "metadata": {},
   "outputs": [
    {
     "data": {
      "text/plain": [
       "array(['', 'Tones', 'Trigger', 'Screen', 'Screen,Tones', 'Tones,Trigger',\n",
       "       'Screen,Trigger', 'Screen,Tones,Trigger'], dtype=object)"
      ]
     },
     "execution_count": 10,
     "metadata": {},
     "output_type": "execute_result"
    }
   ],
   "source": [
    "#Values present in the bucket:\n",
    "df['Bucket'].unique()"
   ]
  },
  {
   "cell_type": "code",
   "execution_count": 11,
   "metadata": {},
   "outputs": [
    {
     "data": {
      "text/html": [
       "<div>\n",
       "<style scoped>\n",
       "    .dataframe tbody tr th:only-of-type {\n",
       "        vertical-align: middle;\n",
       "    }\n",
       "\n",
       "    .dataframe tbody tr th {\n",
       "        vertical-align: top;\n",
       "    }\n",
       "\n",
       "    .dataframe thead th {\n",
       "        text-align: right;\n",
       "    }\n",
       "</style>\n",
       "<table border=\"1\" class=\"dataframe\">\n",
       "  <thead>\n",
       "    <tr style=\"text-align: right;\">\n",
       "      <th></th>\n",
       "      <th>Field_6</th>\n",
       "    </tr>\n",
       "    <tr>\n",
       "      <th>Bucket</th>\n",
       "      <th></th>\n",
       "    </tr>\n",
       "  </thead>\n",
       "  <tbody>\n",
       "    <tr>\n",
       "      <th></th>\n",
       "      <td>175251</td>\n",
       "    </tr>\n",
       "    <tr>\n",
       "      <th>Screen</th>\n",
       "      <td>2250</td>\n",
       "    </tr>\n",
       "    <tr>\n",
       "      <th>Trigger</th>\n",
       "      <td>1086</td>\n",
       "    </tr>\n",
       "    <tr>\n",
       "      <th>Tones</th>\n",
       "      <td>213</td>\n",
       "    </tr>\n",
       "    <tr>\n",
       "      <th>Screen,Tones</th>\n",
       "      <td>64</td>\n",
       "    </tr>\n",
       "    <tr>\n",
       "      <th>Screen,Trigger</th>\n",
       "      <td>14</td>\n",
       "    </tr>\n",
       "    <tr>\n",
       "      <th>Tones,Trigger</th>\n",
       "      <td>9</td>\n",
       "    </tr>\n",
       "    <tr>\n",
       "      <th>Screen,Tones,Trigger</th>\n",
       "      <td>2</td>\n",
       "    </tr>\n",
       "  </tbody>\n",
       "</table>\n",
       "</div>"
      ],
      "text/plain": [
       "                      Field_6\n",
       "Bucket                       \n",
       "                       175251\n",
       "Screen                   2250\n",
       "Trigger                  1086\n",
       "Tones                     213\n",
       "Screen,Tones               64\n",
       "Screen,Trigger             14\n",
       "Tones,Trigger               9\n",
       "Screen,Tones,Trigger        2"
      ]
     },
     "execution_count": 11,
     "metadata": {},
     "output_type": "execute_result"
    }
   ],
   "source": [
    "#Summarize\n",
    "df.groupby(by='Bucket').count().sort_values(by='Field_6', ascending=False)"
   ]
  },
  {
   "cell_type": "markdown",
   "metadata": {},
   "source": [
    "## Condensed approach:"
   ]
  },
  {
   "cell_type": "code",
   "execution_count": 12,
   "metadata": {},
   "outputs": [
    {
     "name": "stdout",
     "output_type": "stream",
     "text": [
      "                      Field_6\n",
      "Bucket                       \n",
      "                       175251\n",
      "Screen                   2250\n",
      "Trigger                  1086\n",
      "Tones                     213\n",
      "Screen,Tones               64\n",
      "Screen,Trigger             14\n",
      "Tones,Trigger               9\n",
      "Screen,Tones,Trigger        2\n"
     ]
    },
    {
     "data": {
      "text/plain": [
       "8.651309967041016"
      ]
     },
     "execution_count": 12,
     "metadata": {},
     "output_type": "execute_result"
    }
   ],
   "source": [
    "import time\n",
    "t1 = time.time()\n",
    "import pandas as pd\n",
    "\n",
    "#Input data\n",
    "df = pd.read_csv(\"./11_files/input.csv\", encoding=\"latin\")\n",
    "df.fillna(value = \"\", inplace=True)\n",
    "df_buckets = pd.read_csv(\"./11_files/buckets.csv\", encoding=\"latin\" )\n",
    "df_buckets.sort_values(by = 'Bucket', inplace=True)\n",
    "df_buckets.set_index('Search', inplace=True)\n",
    "\n",
    "#Create function\n",
    "def find_buckets(field_6):\n",
    "    '''\n",
    "    Receives a text field and finds the \"search\" terms in the buckets list provided.\n",
    "    Returns a string with all the buckets found displayed in alphabetical order\n",
    "    '''\n",
    "    matched = []\n",
    "    try:\n",
    "        text_to_find = field_6.lower()\n",
    "    except:\n",
    "        print(\"Some error happened here: couldn't convert to lowercase\")\n",
    "        print(field_6)\n",
    "    for i in df_bucketsOrdered.index:\n",
    "        if text_to_find.find(i) != -1:\n",
    "            matched.append(df_bucketsOrdered.loc[i,'Bucket'])\n",
    "        \n",
    "    return \",\".join(matched)\n",
    "\n",
    "#Assign Buckets\n",
    "df['Bucket'] = df['Field_6'].apply(find_buckets)\n",
    "\n",
    "#Summarize\n",
    "print(df.groupby(by='Bucket').count().sort_values(by='Field_6', ascending=False))\n",
    "t2 = time.time()\n",
    "t2-t1"
   ]
  },
  {
   "cell_type": "code",
   "execution_count": null,
   "metadata": {},
   "outputs": [],
   "source": []
  }
 ],
 "metadata": {
  "kernelspec": {
   "display_name": "Python 3",
   "language": "python",
   "name": "python3"
  },
  "language_info": {
   "codemirror_mode": {
    "name": "ipython",
    "version": 3
   },
   "file_extension": ".py",
   "mimetype": "text/x-python",
   "name": "python",
   "nbconvert_exporter": "python",
   "pygments_lexer": "ipython3",
   "version": "3.7.0"
  }
 },
 "nbformat": 4,
 "nbformat_minor": 2
}
